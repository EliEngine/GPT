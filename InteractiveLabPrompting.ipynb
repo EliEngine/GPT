{
 "cells": [
  {
   "cell_type": "markdown",
   "id": "943d91f0-4200-476b-b85c-6caa175d12b0",
   "metadata": {
    "tags": []
   },
   "source": [
    "# Handleiding voor Prompting\n",
    "In deze interactieve les leer je 2 promoting principes en gerelateerde tactieken om effectieve prompts te schrijven voor large Language modellen.\n",
    "\n",
    "Principes\n",
    "1. Schrijf heldere en specifieke instructies helder=/kort\n",
    "2. Geef het model tijd om te denken\n",
    "\n",
    "\n",
    "De opdracht bestaat uit:\n",
    "1. Setup\n",
    "2. Prompting technieken\n",
    "3. Tactiek 1\n",
    "4. Tactiek 2\n",
    "5. Tactiek 3\n",
    "6. Zelf een klantrapport genereren\n"
   ]
  },
  {
   "cell_type": "markdown",
   "id": "51b7a7f7-8077-49a8-b87f-b327371238cf",
   "metadata": {},
   "source": [
    "## Setup\n",
    "\n",
    "We gaan eerst de Jupyter-setup opzetten. \n",
    "Heb je openai draaien op je laptop?\n",
    "Nog niet? Heb je Python draaien op je laptop en een virtual environment aangemaakt?"
   ]
  },
  {
   "cell_type": "code",
   "execution_count": 10,
   "id": "48620324-7296-41fb-a55c-c5625821e24e",
   "metadata": {
    "tags": []
   },
   "outputs": [
    {
     "name": "stdout",
     "output_type": "stream",
     "text": [
      "Collecting openai\n",
      "  Downloading openai-1.30.3-py3-none-any.whl.metadata (21 kB)\n",
      "Requirement already satisfied: anyio<5,>=3.5.0 in /Users/fammes-vanriet/Projects/anaconda3/lib/python3.11/site-packages (from openai) (4.2.0)\n",
      "Requirement already satisfied: distro<2,>=1.7.0 in /Users/fammes-vanriet/Projects/anaconda3/lib/python3.11/site-packages (from openai) (1.8.0)\n",
      "Requirement already satisfied: httpx<1,>=0.23.0 in /Users/fammes-vanriet/Projects/anaconda3/lib/python3.11/site-packages (from openai) (0.26.0)\n",
      "Requirement already satisfied: pydantic<3,>=1.9.0 in /Users/fammes-vanriet/Projects/anaconda3/lib/python3.11/site-packages (from openai) (1.10.12)\n",
      "Requirement already satisfied: sniffio in /Users/fammes-vanriet/Projects/anaconda3/lib/python3.11/site-packages (from openai) (1.3.0)\n",
      "Requirement already satisfied: tqdm>4 in /Users/fammes-vanriet/Projects/anaconda3/lib/python3.11/site-packages (from openai) (4.65.0)\n",
      "Requirement already satisfied: typing-extensions<5,>=4.7 in /Users/fammes-vanriet/Projects/anaconda3/lib/python3.11/site-packages (from openai) (4.9.0)\n",
      "Requirement already satisfied: idna>=2.8 in /Users/fammes-vanriet/Projects/anaconda3/lib/python3.11/site-packages (from anyio<5,>=3.5.0->openai) (3.4)\n",
      "Requirement already satisfied: certifi in /Users/fammes-vanriet/Projects/anaconda3/lib/python3.11/site-packages (from httpx<1,>=0.23.0->openai) (2024.2.2)\n",
      "Requirement already satisfied: httpcore==1.* in /Users/fammes-vanriet/Projects/anaconda3/lib/python3.11/site-packages (from httpx<1,>=0.23.0->openai) (1.0.2)\n",
      "Requirement already satisfied: h11<0.15,>=0.13 in /Users/fammes-vanriet/Projects/anaconda3/lib/python3.11/site-packages (from httpcore==1.*->httpx<1,>=0.23.0->openai) (0.14.0)\n",
      "Downloading openai-1.30.3-py3-none-any.whl (320 kB)\n",
      "\u001b[2K   \u001b[90m━━━━━━━━━━━━━━━━━━━━━━━━━━━━━━━━━━━━━━━━\u001b[0m \u001b[32m320.6/320.6 kB\u001b[0m \u001b[31m8.5 MB/s\u001b[0m eta \u001b[36m0:00:00\u001b[0m:00:01\u001b[0m\n",
      "\u001b[?25hInstalling collected packages: openai\n",
      "Successfully installed openai-1.30.3\n"
     ]
    }
   ],
   "source": [
    "!pip install openai"
   ]
  },
  {
   "cell_type": "markdown",
   "id": "1d84678c-c4cb-45b8-a4a6-a788d1750279",
   "metadata": {},
   "source": [
    "In deze les hebben we in de basiscode de setup voor je neergezet om de OpenAI API student key te draaien."
   ]
  },
  {
   "cell_type": "markdown",
   "id": "23d403fc-8970-4edd-a8e7-d6b36e60a547",
   "metadata": {
    "tags": []
   },
   "source": [
    "#### Laad de API key en relevante Python libraries. Nu gaan we de openai student key ophalen en draaien in jouw virtual environment"
   ]
  },
  {
   "cell_type": "code",
   "execution_count": 147,
   "id": "b8774470-1f0c-4f02-a6ac-f61aff68dd48",
   "metadata": {
    "tags": []
   },
   "outputs": [],
   "source": [
    "import openai\n",
    "import os\n",
    "\n",
    "from dotenv import load_dotenv, find_dotenv\n",
    "_ = load_dotenv(find_dotenv())\n",
    "\n",
    "openai.api_key  = os.getenv('jouw student openai key')"
   ]
  },
  {
   "cell_type": "markdown",
   "id": "84dafbb2-f99c-4d82-9958-edf90d1c021d",
   "metadata": {},
   "source": [
    "Gedurende deze sessie werken we met het model dat heet: gpt-3.5-turbo en chatgpt's completion end points\n",
    "we creeren eerst een helperfunctie om prompts te kunnen schrijven en te kijken naar de door jou gegeneerde output.\n",
    "De volgende helperfunctie gebruikt als input een prompt en zal daarop een completion antwoord/response geven"
   ]
  },
  {
   "cell_type": "code",
   "execution_count": 149,
   "id": "46806d13-7f94-4721-8da7-5041c2fb6267",
   "metadata": {
    "tags": []
   },
   "outputs": [],
   "source": [
    "client = openai.OpenAI(api_key='jouw student openai key')\n",
    "\n",
    "def get_completion(prompt, model=\"gpt-3.5-turbo\"):\n",
    "    messages = [{\"role\": \"user\", \"content\": prompt}]\n",
    "    response = client.chat.completions.create(\n",
    "        model=model,\n",
    "        messages=messages,\n",
    "        temperature=0\n",
    "    )\n",
    "    return response.choices[0].message.content"
   ]
  },
  {
   "cell_type": "markdown",
   "id": "245a7f05-3836-4b4a-bb29-eea749105cb4",
   "metadata": {
    "tags": []
   },
   "source": [
    "# Prompting principes\n",
    "Principe 1: Schrijf heldere en specifieke instructies<br>\n",
    "Principe 2: Geef het model tijd om 'na te denken'\n",
    "\n",
    "## Tactieken\n",
    "### Tactiek 1: \n",
    "\n",
    "Gebruik delimiters om de afzonderlijke onderdelen van de input duidelijk aan te geven<br>\n",
    "Delimiters kunnen bijvoorbeeld zijn: ''', \"\"\", <>, <tag> </tag>, :"
   ]
  },
  {
   "cell_type": "markdown",
   "id": "b8ff3178-c0b6-406b-86ba-825a1a2d3767",
   "metadata": {},
   "source": [
    "We gaan nu eerst het tekstbestand van het Klantgesprek inlezen"
   ]
  },
  {
   "cell_type": "code",
   "execution_count": 152,
   "id": "64d99545-1ec8-416d-8f5b-3d7163b70a46",
   "metadata": {
    "tags": []
   },
   "outputs": [],
   "source": [
    "import pandas as pd"
   ]
  },
  {
   "cell_type": "code",
   "execution_count": 160,
   "id": "020dfa1c-400c-483d-ad04-7d70b40b2c63",
   "metadata": {
    "tags": []
   },
   "outputs": [],
   "source": [
    "f = open('/Users/jouw gebruiksnaam/documents/Klantgesprek_InteractiveLabPrompting.txt', 'r')"
   ]
  },
  {
   "cell_type": "code",
   "execution_count": 162,
   "id": "09b5bc24-2797-48ac-9b66-30b5826ffc1b",
   "metadata": {
    "tags": []
   },
   "outputs": [],
   "source": [
    "Data_Klantgesprek = f.read()"
   ]
  },
  {
   "cell_type": "code",
   "execution_count": 164,
   "id": "9d07ad64-d239-4c72-8df4-97b0b7596842",
   "metadata": {
    "tags": []
   },
   "outputs": [
    {
     "name": "stdout",
     "output_type": "stream",
     "text": [
      "**Analist**: Goedemorgen, meneer Janssen. Bedankt dat u de tijd heeft genomen om vandaag met mij te spreken.\n",
      "\n",
      "**Klant**: Goedemorgen. Natuurlijk, geen probleem. Waar kan ik u mee helpen?\n",
      "\n",
      "**Analist**: Ik werk voor de fraude detectie afdeling van de bank. We hebben enkele vragen over een aantal transacties op uw rekening die we graag met u willen bespreken. Kunt u bevestigen dat u eigenaar bent van een bureau?\n",
      "\n",
      "**Klant**: Ja, dat klopt. Ik heb een uitzendbureau.\n",
      "\n",
      "**Analist**: Dank u. Wat is uw voor- en achternaam? En uw geboortedatum?\n",
      "\n",
      "**Klant**: Joop Janssen geboren op 12-12-1972.\n",
      "\n",
      "**Analist**: Dank u. We hebben een aantal transacties op uw zakelijke rekening opgemerkt die enigszins afwijken van wat we zouden verwachten voor een uitzendbureau. Kunt u bijvoorbeeld iets vertellen over de frequente grote contante stortingen die de afgelopen maanden hebben plaatsgevonden?\n",
      "\n",
      "**Klant**: Ah, ja, ik begrijp waarom dat vragen oproept. Die contante stortingen zijn betalingen van klanten die de voorkeur geven aan contante betalingen in plaats van overschrijvingen.\n",
      "\n",
      "**Analist**: Dat is zeker een mogelijke verklaring. Kunt u specifieke voorbeelden geven van klanten die contant betalen en waarom zij die voorkeur hebben?\n",
      "\n",
      "**Klant**: Zeker. Een van mijn grotere klanten is een familiebedrijf dat gewend is om zaken in contanten af te handelen vanwege hun tradities. Ze werken al decennia op deze manier, en hoewel ik ze probeer te overtuigen om over te stappen naar digitale betalingen, zijn ze huiverig voor verandering.\n",
      "\n",
      "**Analist**: Begrijpelijk. Heeft u dan een administratie die deze contante betalingen kan verifiëren, zoals kwitanties of facturen die overeenkomen met de stortingen?\n",
      "\n",
      "**Klant**: Ja, ik houd alle transacties nauwkeurig bij in mijn boekhoudsysteem. Ik kan u kopieën van de relevante documenten verstrekken.\n",
      "\n",
      "**Analist**: Dat zou zeer behulpzaam zijn. Er is ook een patroon van grote bedragen die naar persoonlijke rekeningen worden overgemaakt. Kunt u uitleggen waarom er zo vaak geld wordt overgeboekt van uw zakelijke rekening naar uw persoonlijke rekening?\n",
      "\n",
      "**Klant**: Natuurlijk. Mijn bureau is een eenmanszaak, dus de inkomsten van het bedrijf zijn in feite mijn persoonlijke inkomen. Ik verplaats geld naar mijn persoonlijke rekening voor huishoudelijke uitgaven en persoonlijke investeringen.\n",
      "\n",
      "**Analist**: Dat is logisch. Er is echter ook een aantal overboekingen naar buitenlandse rekeningen. Kunt u uitleggen wat de reden hiervoor is?\n",
      "\n",
      "**Klant**: Ja, die overboekingen zijn betalingen voor diensten die ik in het buitenland heb ingekocht. Mijn bedrijf werkt samen met enkele consultants in het buitenland die mij helpen met bepaalde projecten. Zij accepteren alleen betalingen via hun buitenlandse bankrekeningen.\n",
      "\n",
      "**Analist**: Helder, meneer Janssen. Kunt u specificeren om welke landen en consultants het gaat?\n",
      "\n",
      "**Klant**: Natuurlijk. De meeste betalingen gaan naar \n",
      "een consultant in Duitsland en \n",
      "een IT-specialist in India. Ik heb al jarenlang zakenrelaties met hen en zij leveren uitstekend werk.\n",
      "\n",
      "**Analist**: Dat klinkt aannemelijk. Er zijn ook een aantal grote uitgaven op uw zakelijke rekening. Kunt u deze uitgaven verklaren?\n",
      "Zoals deze bij \n",
      "luxe winkels,\n",
      "Wellness centra\n",
      "Restaurants \n",
      "\n",
      "**Klant**: Zeker. Die uitgaven zijn vaak gerelateerd aan zakelijke lunches en diners met klanten en potentiële klanten. Daarnaast organiseer ik af en toe evenementen om mijn bedrijf te promoten, en daarbij horen ook kosten voor luxe locaties en catering.\n",
      "\n",
      "**Analist**: Bedankt voor uw uitleg, meneer Janssen. Heeft u toevallig bonnetjes of facturen van deze uitgaven die deze beweringen kunnen staven?\n",
      "\n",
      "**Klant**: Ja, ik bewaar altijd bonnetjes en zorg dat alles goed gedocumenteerd is voor mijn boekhouding en belastingaangifte. Ik kan deze ook aan u overhandigen.\n",
      "\n",
      "**Analist**: Dat is fijn om te horen, die zou ik graag ontvangen voor de vervolgstappen. Tot slot, heeft u enige veranderingen aangebracht in uw bedrijfsactiviteiten of financiële administratie die wij misschien moeten weten?\n",
      "\n",
      "**Klant**: Nee, niet echt. Het enige wat veranderd is, is de toename in het aantal klanten en daardoor ook de transacties. Mijn bedrijf is het afgelopen jaar gegroeid en dat brengt natuurlijk meer financiële activiteit met zich mee.\n",
      "\n",
      "**Analist**: Dat is goed om te horen. Bedankt voor uw tijd en uw medewerking, meneer Janssen. Uw verklaringen helpen ons om een beter beeld te krijgen van uw financiële activiteiten. In de vervolgstappen zullen uw aangeleverde documentatie zorgvuldig bekijken en indien nodig schriftelijk en telefonisch contact met u opnemen voor verdere vragen.\n",
      "\n",
      "**Klant**: Graag gedaan. Ik ben blij dat ik alles heb kunnen toelichten. Als er nog iets is, aarzel dan niet om contact met mij op te nemen.\n",
      "\n",
      "**Analist**: Dat zal ik zeker doen. Nogmaals bedankt en ik wens u een fijne dag verder.\n",
      "\n",
      "**Klant**: Dank u, hetzelfde.\n",
      "\n",
      "**Klant**: Dank u, hetzelfde.\n"
     ]
    }
   ],
   "source": [
    "print(Data_Klantgesprek)"
   ]
  },
  {
   "cell_type": "code",
   "execution_count": 166,
   "id": "555c8a53-ddf7-4dd7-99b7-0b5f406520d0",
   "metadata": {
    "tags": []
   },
   "outputs": [
    {
     "name": "stdout",
     "output_type": "stream",
     "text": [
      "Analist en klant bespreken transacties op de zakelijke rekening van de klant, waarbij de klant uitleg geeft over contante stortingen, overboekingen naar persoonlijke en buitenlandse rekeningen, en grote uitgaven bij luxe winkels, wellness centra en restaurants. De klant verstrekt documentatie om zijn verklaringen te ondersteunen en benadrukt dat de toename in transacties te wijten is aan de groei van zijn bedrijf. De analist bedankt de klant voor zijn medewerking en geeft aan dat er mogelijk nog vervolgstappen zullen worden genomen na het bekijken van de documentatie.\n"
     ]
    }
   ],
   "source": [
    "prompt = f\"\"\"\n",
    "Vat de tekst, die gescheiden is door dubbele asterix **, samen  \n",
    "in één zin.\n",
    "```{Data_Klantgesprek}```\n",
    "\"\"\"\n",
    "response = get_completion(prompt)\n",
    "print(response)"
   ]
  },
  {
   "cell_type": "markdown",
   "id": "7614e68b-c07d-4a60-af80-20429519888f",
   "metadata": {},
   "source": [
    "### Tactiek 2 \n",
    "Vraag naar een gestructureerde output\n",
    "- JSON of HTML"
   ]
  },
  {
   "cell_type": "code",
   "execution_count": 168,
   "id": "935c42ea-d9e5-4915-a835-a51aceb6bf18",
   "metadata": {
    "tags": []
   },
   "outputs": [
    {
     "name": "stdout",
     "output_type": "stream",
     "text": [
      "[\n",
      "    {\n",
      "        \"klant_id\": \"12345\",\n",
      "        \"modelscenarionaam\": \"Verdachte transacties\",\n",
      "        \"analistnaam\": \"Sarah Johnson\",\n",
      "        \"genre\": \"Fraude\"\n",
      "    },\n",
      "    {\n",
      "        \"klant_id\": \"67890\",\n",
      "        \"modelscenarionaam\": \"Ongebruikelijke geldstromen\",\n",
      "        \"analistnaam\": \"Michael Smith\",\n",
      "        \"genre\": \"Witwassen\"\n",
      "    },\n",
      "    {\n",
      "        \"klant_id\": \"54321\",\n",
      "        \"modelscenarionaam\": \"Identiteitsdiefstal\",\n",
      "        \"analistnaam\": \"Emily Brown\",\n",
      "        \"genre\": \"Oplichting\"\n",
      "    }\n",
      "]\n"
     ]
    }
   ],
   "source": [
    "prompt = f\"\"\"\n",
    "Genereer een lijst van drie zelfbedachte klantrapporten in detectie financiele criminaliteit/ \n",
    "met klantnamen en genre.\n",
    "Lever ze in JSON format met de volgende attributen:\n",
    "klant_id, modelscenarionaam, analistnaam, genre.\n",
    "\"\"\"\n",
    "response = get_completion(prompt)\n",
    "print(response)\n",
    "\n",
    "\n"
   ]
  },
  {
   "cell_type": "markdown",
   "id": "5491af20-6044-49de-a514-5668aae08a36",
   "metadata": {},
   "source": [
    "### Tactiek 3: Vraag het model te controleren of de voorwaarden zijn voldaan."
   ]
  },
  {
   "cell_type": "code",
   "execution_count": 172,
   "id": "b549c6b2-b243-4e4f-a16a-18ad785a5f6d",
   "metadata": {
    "tags": []
   },
   "outputs": [
    {
     "name": "stdout",
     "output_type": "stream",
     "text": [
      "Stap 1 - De analist begroet de klant en begint met het stellen van vragen over verdachte transacties op de zakelijke rekening van de klant.\n",
      "Stap 2 - De klant bevestigt dat hij eigenaar is van een uitzendbureau en geeft zijn persoonlijke gegevens.\n",
      "Stap 3 - De analist vraagt naar de grote contante stortingen en de klant legt uit dat dit betalingen van klanten zijn die de voorkeur geven aan contante betalingen.\n",
      "Stap 4 - De analist vraagt om verificatie van de contante betalingen en de klant biedt aan om relevante documenten te verstrekken.\n",
      "Stap 5 - De analist bespreekt de overboekingen naar persoonlijke en buitenlandse rekeningen en de klant legt uit dat dit gerelateerd is aan zijn eenmanszaak en zakelijke uitgaven in het buitenland.\n",
      "Stap 6 - De analist vraagt naar grote uitgaven bij luxe winkels, wellness centra en restaurants en de klant verklaart dat dit zakelijke gerelateerde kosten zijn.\n",
      "Stap 7 - De analist vraagt om bonnetjes en facturen ter ondersteuning van de uitgaven en de klant biedt aan om deze te verstrekken.\n",
      "Stap 8 - De analist vraagt of er veranderingen zijn in de bedrijfsactiviteiten of financiële administratie en de klant geeft aan dat de groei van zijn bedrijf heeft geleid tot meer transacties.\n",
      "Stap 9 - De analist bedankt de klant voor zijn medewerking en legt uit dat ze de verstrekte documentatie zorgvuldig zullen bekijken en indien nodig contact zullen opnemen voor verdere vragen.\n",
      "Stap 10 - De klant bedankt de analist en biedt aan om verder contact op te nemen indien nodig. Ze nemen afscheid en wensen elkaar een fijne dag.\n"
     ]
    }
   ],
   "source": [
    "prompt = f\"\"\"\n",
    "Je krijgt de tekst te zien, die gescheiden is door dubbele asterix ** \\ \n",
    "als het vervolgstappen bevat \\\n",
    "herschrijf deze vervolgstappen in het volgende format:\n",
    "\n",
    "Stap 1 - ...\n",
    "Stap 2 - ...\n",
    "...\n",
    "Stap N - ...\n",
    "|\n",
    "Als de tekst geen vervolgstappen geeft, \\\n",
    "dan schrijf simpelweg \\ \"Geen vervolgstappen gegeven.\"\\\n",
    "\n",
    "`/`/`{Data_Klantgesprek}`/`/`\n",
    "\"\"\"\n",
    "response = get_completion(prompt)\n",
    "print(response)"
   ]
  },
  {
   "cell_type": "markdown",
   "id": "bb731910-8932-4c5d-932a-5e6d6a209254",
   "metadata": {},
   "source": [
    "### Zelf een klantrapport genereren:\n",
    "\n",
    "Vul de prompt nu zelf aan om te zorgen dat het een rapport wordt met:\n",
    "    - het verwijderen van dubbele informatie\n",
    "    - statements van de klant accuraat vermeld wordt\n",
    "    - als er opsommingstekens in voor komen, herschrijf ze dan tot een alinea\n",
    "    - verwijder subjectieve statements \n",
    "    - verwijder elke conclusie of samenvatting\n",
    "    \n",
  
   ]
  }
 ],
 "metadata": {
  "kernelspec": {
   "display_name": "Python 3 (ipykernel)",
   "language": "python",
   "name": "python3"
  },
  "language_info": {
   "codemirror_mode": {
    "name": "ipython",
    "version": 3
   },
   "file_extension": ".py",
   "mimetype": "text/x-python",
   "name": "python",
   "nbconvert_exporter": "python",
   "pygments_lexer": "ipython3",
   "version": "3.11.7"
  }
 },
 "nbformat": 4,
 "nbformat_minor": 5
}
